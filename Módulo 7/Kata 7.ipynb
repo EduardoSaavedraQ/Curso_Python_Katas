{
 "cells": [
  {
   "cell_type": "markdown",
   "metadata": {},
   "source": [
    "# Ejercicio 1: Creación de un bucle \"while\""
   ]
  },
  {
   "cell_type": "code",
   "execution_count": 3,
   "metadata": {},
   "outputs": [],
   "source": [
    "# Declaración de dos variables\n",
    "new_planet = ''\n",
    "planets = []\n",
    "#Escribiendo el ciclo while solicitado\n",
    "while new_planet.lower() != \"done\":\n",
    "    if new_planet:\n",
    "        planets.append(new_planet)\n",
    "    new_planet = input(\"\"\"\n",
    "    Ingrese un planeta (procure iniciar con una letra mayúscula).\n",
    "    Cuando ya no desee ingresar más, ingrese la palabra 'done:'\"\"\")\n"
   ]
  },
  {
   "cell_type": "markdown",
   "metadata": {},
   "source": [
    "# Ejercicio 2: Creación de un ciclo \"for\""
   ]
  },
  {
   "cell_type": "code",
   "execution_count": 8,
   "metadata": {},
   "outputs": [
    {
     "name": "stdout",
     "output_type": "stream",
     "text": [
      "Planeta 1: planet\n",
      "Planeta 2: planet\n",
      "Planeta 3: planet\n",
      "Planeta 4: planet\n"
     ]
    }
   ],
   "source": [
    "# Escribiendo el ciclo for para iterar en una lista de planetas\n",
    "n = 0\n",
    "for planet in planets:\n",
    "    n += 1\n",
    "    print(f\"Planeta {n}: planet\")"
   ]
  }
 ],
 "metadata": {
  "interpreter": {
   "hash": "8ed06d07b9ff369db6ed7b53447be18709da67cd911d838d72fee7fecb26667a"
  },
  "kernelspec": {
   "display_name": "Python 3.10.2 64-bit",
   "language": "python",
   "name": "python3"
  },
  "language_info": {
   "codemirror_mode": {
    "name": "ipython",
    "version": 3
   },
   "file_extension": ".py",
   "mimetype": "text/x-python",
   "name": "python",
   "nbconvert_exporter": "python",
   "pygments_lexer": "ipython3",
   "version": "3.10.2"
  },
  "orig_nbformat": 4
 },
 "nbformat": 4,
 "nbformat_minor": 2
}
