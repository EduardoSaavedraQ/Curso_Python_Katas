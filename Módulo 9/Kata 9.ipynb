{
 "cells": [
  {
   "cell_type": "markdown",
   "metadata": {},
   "source": [
    "# Ejercicio 1: Trabajar con argumentos en funciones"
   ]
  },
  {
   "cell_type": "code",
   "execution_count": 6,
   "metadata": {},
   "outputs": [
    {
     "data": {
      "text/plain": [
       "'\\ndef informes(tanque_1, tanque_2, tanque_3):\\n    promedio = (tanque_1 + tanque_2 + tanque_3) / 3\\n    print(f\"\"\\n    Reporte de combustible:\\n    Tanque 1: {tanque_1}%.\\n    Tanque 2: {tanque_2}%.\\n    Tanque 3: {tanque_3}%.\\n    Promedio de combustible: {round(promedio, 2)}%.\"\")\\n'"
      ]
     },
     "execution_count": 6,
     "metadata": {},
     "output_type": "execute_result"
    }
   ],
   "source": [
    "# Función para leer 3 tanques de combustible y muestre el promedio\n",
    "def informes(tanque_1, tanque_2, tanque_3):\n",
    "    promedio = (tanque_1 + tanque_2 + tanque_3) / 3\n",
    "    print(f\"\"\"\n",
    "    Reporte de combustible:\n",
    "    Tanque 1: {tanque_1}%.\n",
    "    Tanque 2: {tanque_2}%.\n",
    "    Tanque 3: {tanque_3}%.\n",
    "    Promedio de combustible: {round(promedio, 2)}%.\"\"\")\n",
    "# Llamando a la función\n",
    "print(informes(50, 65, 30))"
   ]
  },
  {
   "cell_type": "code",
   "execution_count": 19,
   "metadata": {},
   "outputs": [
    {
     "name": "stdout",
     "output_type": "stream",
     "text": [
      "\n",
      "    Reporte de combustible:\n",
      "    Tanque 1: 50%.\n",
      "    Tanque 2: 65%.\n",
      "    Tanque 3: 30%.\n",
      "    Promedio de combustible: 48.33%.\n"
     ]
    }
   ],
   "source": [
    "#Función promedio\n",
    "def promedio(t1, t2, t3):\n",
    "    return (t1 + t2 +t3) / 3\n",
    "\n",
    "#Actualizando la función informe\n",
    "def informes_actualizado(tanque_1, tanque_2, tanque_3):\n",
    "    average = round(promedio(tanque_1, tanque_2, tanque_3), 2)\n",
    "    print(f\"\"\"\n",
    "    Reporte de combustible:\n",
    "    Tanque 1: {tanque_1}%.\n",
    "    Tanque 2: {tanque_2}%.\n",
    "    Tanque 3: {tanque_3}%.\n",
    "    Promedio de combustible: {average}%.\"\"\")\n",
    "\n",
    "informes_actualizado(50, 65, 30)"
   ]
  },
  {
   "cell_type": "markdown",
   "metadata": {},
   "source": [
    "# Ejercicio 2: Trabajar con argumentos de plabras clave"
   ]
  },
  {
   "cell_type": "code",
   "execution_count": 22,
   "metadata": {},
   "outputs": [
    {
     "name": "stdout",
     "output_type": "stream",
     "text": [
      "\n",
      "    Informe de viaje\n",
      "\n",
      "    Destino: Luna.\n",
      "    Tiempo de prelanzamiento: 60 minutos.\n",
      "    Tiempo de vuelo: 180 minutos.\n",
      "    Tiempo total: 240 minutos.\n",
      "    Combustible de tanque exterior: 400\n",
      "    Combustible de tanque interior: 700\n"
     ]
    }
   ],
   "source": [
    "# Función con un informa preciso de la misión\n",
    "def informe_preciso(tiempo_prelanzamiento, tiemp_vuelo, destino, tanqueEx, tanqueIn):\n",
    "    return f\"\"\"\n",
    "    Informe de viaje\n",
    "\n",
    "    Destino: {destino}.\n",
    "    Tiempo de prelanzamiento: {tiempo_prelanzamiento} minutos.\n",
    "    Tiempo de vuelo: {tiemp_vuelo} minutos.\n",
    "    Tiempo total: {tiempo_prelanzamiento + tiemp_vuelo} minutos.\n",
    "    Combustible de tanque exterior: {tanqueEx}\n",
    "    Combustible de tanque interior: {tanqueIn}\"\"\"\n",
    "\n",
    "print(informe_preciso(60, 180, 'Luna', 400, 700))"
   ]
  },
  {
   "cell_type": "code",
   "execution_count": 20,
   "metadata": {},
   "outputs": [
    {
     "name": "stdout",
     "output_type": "stream",
     "text": [
      "\n",
      "    Informe de viaje\n",
      "    Destino: Luna.\n",
      "    Tiempo total: 285 minutos.\n",
      "    Combustible total: 2015\n",
      "    \n"
     ]
    }
   ],
   "source": [
    "# Informe actualizado\n",
    "def informe_preciso_actualizado(destino, *minutes, **fuel_reservoirs):\n",
    "    return f\"\"\"\n",
    "    Informe de viaje\n",
    "    Destino: {destino}.\n",
    "    Tiempo total: {sum(minutes)} minutos.\n",
    "    Combustible total: {sum(fuel_reservoirs.values())}\"\"\"\n",
    "    \n",
    "print(informe_preciso_actualizado('Luna', 60, 180, 45, exterior = 400, interior = 700, auxiliar = 915))"
   ]
  },
  {
   "cell_type": "code",
   "execution_count": 30,
   "metadata": {},
   "outputs": [
    {
     "name": "stdout",
     "output_type": "stream",
     "text": [
      "\n",
      "    Informe de viaje\n",
      "    Destino: Luna.\n",
      "    Tiempo total: 285 minutos.\n",
      "    Tanques:\n",
      "    \texterior: 400 galón(es)\n",
      "\tinterior: 700 galón(es)\n",
      "\tauxiliar: 915 galón(es)\n",
      "\n"
     ]
    }
   ],
   "source": [
    "# Informe última versión\n",
    "def informe_last_version(destino, *minutes, **fuel_reservoirs):\n",
    "    informe = f\"\"\"\n",
    "    Informe de viaje\n",
    "    Destino: {destino}.\n",
    "    Tiempo total: {sum(minutes)} minutos.\n",
    "    Tanques:\n",
    "    \"\"\"\n",
    "    for tanque, combustible in fuel_reservoirs.items():\n",
    "        informe += f\"\\t{tanque}: {combustible} galón(es)\\n\"\n",
    "    return informe\n",
    "\n",
    "print(informe_last_version('Luna', 60, 180, 45, exterior = 400, interior = 700, auxiliar = 915))"
   ]
  }
 ],
 "metadata": {
  "interpreter": {
   "hash": "8ed06d07b9ff369db6ed7b53447be18709da67cd911d838d72fee7fecb26667a"
  },
  "kernelspec": {
   "display_name": "Python 3.10.2 64-bit",
   "language": "python",
   "name": "python3"
  },
  "language_info": {
   "codemirror_mode": {
    "name": "ipython",
    "version": 3
   },
   "file_extension": ".py",
   "mimetype": "text/x-python",
   "name": "python",
   "nbconvert_exporter": "python",
   "pygments_lexer": "ipython3",
   "version": "3.10.2"
  },
  "orig_nbformat": 4
 },
 "nbformat": 4,
 "nbformat_minor": 2
}
