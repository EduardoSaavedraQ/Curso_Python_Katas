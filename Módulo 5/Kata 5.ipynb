{
 "cells": [
  {
   "cell_type": "markdown",
   "metadata": {},
   "source": [
    "# Ejercicio 1: Utilizar operadores aritméticos"
   ]
  },
  {
   "cell_type": "code",
   "execution_count": 1,
   "metadata": {},
   "outputs": [
    {
     "name": "stdout",
     "output_type": "stream",
     "text": [
      "628949330\n",
      "390577533.93\n"
     ]
    }
   ],
   "source": [
    "distanciaPlaneta1 = 149597870\n",
    "distanciaPlaneta2 = 778547200\n",
    "distancia_en_kilómetros = distanciaPlaneta2 - distanciaPlaneta1\n",
    "print(distancia_en_kilómetros)\n",
    "distancia_en_millas = distancia_en_kilómetros * 0.621\n",
    "print(distancia_en_millas)"
   ]
  },
  {
   "cell_type": "markdown",
   "metadata": {},
   "source": [
    "# Ejercicio 2: Convertir cadenas a números y usar valores absolutos"
   ]
  },
  {
   "cell_type": "code",
   "execution_count": 7,
   "metadata": {},
   "outputs": [
    {
     "name": "stdout",
     "output_type": "stream",
     "text": [
      "29000000\n",
      "18009000.0\n"
     ]
    }
   ],
   "source": [
    "entrada1 = input(\"Ingrese la distancia entre el primer planeta y el sol en KM: \")\n",
    "entrada2 = input(\"Ingrese la distancia entre el segundo planeta y el sol en KM: \")\n",
    "distancia1 = int(entrada1)\n",
    "distancia2 = int(entrada2)\n",
    "distancia_en_kilómetros = abs(distancia1 - distancia2)\n",
    "print(distancia_en_kilómetros)\n",
    "distancia_en_millas = distancia_en_kilómetros * 0.621\n",
    "print(distancia_en_millas)"
   ]
  }
 ],
 "metadata": {
  "interpreter": {
   "hash": "8ed06d07b9ff369db6ed7b53447be18709da67cd911d838d72fee7fecb26667a"
  },
  "kernelspec": {
   "display_name": "Python 3.10.2 64-bit",
   "language": "python",
   "name": "python3"
  },
  "language_info": {
   "codemirror_mode": {
    "name": "ipython",
    "version": 3
   },
   "file_extension": ".py",
   "mimetype": "text/x-python",
   "name": "python",
   "nbconvert_exporter": "python",
   "pygments_lexer": "ipython3",
   "version": "3.10.2"
  },
  "orig_nbformat": 4
 },
 "nbformat": 4,
 "nbformat_minor": 2
}
