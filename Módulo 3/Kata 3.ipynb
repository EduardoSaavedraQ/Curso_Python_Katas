{
 "cells": [
  {
   "cell_type": "markdown",
   "metadata": {},
   "source": [
    "# Advertencia de proximdad de asteroide"
   ]
  },
  {
   "cell_type": "code",
   "execution_count": 3,
   "metadata": {},
   "outputs": [
    {
     "name": "stdout",
     "output_type": "stream",
     "text": [
      "¡¡¡¡ADVERTENCIA. UN ASTEROIDE SE APROXIMA A GRAN VELOCIDAD!!!!\n"
     ]
    }
   ],
   "source": [
    "velocidad = 49\n",
    "if velocidad > 25:\n",
    "    print(\"¡¡¡¡ADVERTENCIA. UN ASTEROIDE SE APROXIMA A GRAN VELOCIDAD!!!!\")\n",
    "else:\n",
    "    print(\"No hay peligro inminente\")"
   ]
  },
  {
   "cell_type": "markdown",
   "metadata": {},
   "source": [
    "# Visibilidad del rayo de luz del asteroide"
   ]
  },
  {
   "cell_type": "code",
   "execution_count": 4,
   "metadata": {},
   "outputs": [
    {
     "name": "stdout",
     "output_type": "stream",
     "text": [
      "No hay nada visible.\n"
     ]
    }
   ],
   "source": [
    "velocidad2 = 19\n",
    "if velocidad2 > 20:\n",
    "    print(\"El rayo de luz puede ser visible.\")\n",
    "elif velocidad2 == 20:\n",
    "    print(\"El rayo de luz puede ser visible.\")\n",
    "else:\n",
    "    print(\"No hay nada visible.\")"
   ]
  },
  {
   "cell_type": "markdown",
   "metadata": {},
   "source": [
    "# Velocidad y tamaño"
   ]
  },
  {
   "cell_type": "code",
   "execution_count": 8,
   "metadata": {},
   "outputs": [
    {
     "name": "stdout",
     "output_type": "stream",
     "text": [
      "¡¡¡¡ADVERTENCIA. UN ASTEROIDE SE APROXIMA A GRAN VELOCIDAD!!!!\n",
      "No hay peligro inminente.\n"
     ]
    }
   ],
   "source": [
    "tamaño_asteroide = 10\n",
    "velocidad_asteroide = 30\n",
    "if velocidad_asteroide > 25:\n",
    "    print(\"¡¡¡¡ADVERTENCIA. UN ASTEROIDE SE APROXIMA A GRAN VELOCIDAD!!!!\")\n",
    "    if tamaño_asteroide >= 25 and tamaño_asteroide <= 1000:\n",
    "        print(\"¡¡¡¡BUSQUEN REFUGIO INMEDIATAMENTE!!!!\")\n",
    "    else:\n",
    "        print(\"No hay peligro inminente.\")\n",
    "elif velocidad_asteroide > 20 or velocidad_asteroide == 20:\n",
    "    print(\"El rayo de luz puede ser visible.\")\n",
    "else:\n",
    "    print(\"No hay nada a la vista.\")"
   ]
  }
 ],
 "metadata": {
  "interpreter": {
   "hash": "8ed06d07b9ff369db6ed7b53447be18709da67cd911d838d72fee7fecb26667a"
  },
  "kernelspec": {
   "display_name": "Python 3.10.2 64-bit",
   "language": "python",
   "name": "python3"
  },
  "language_info": {
   "codemirror_mode": {
    "name": "ipython",
    "version": 3
   },
   "file_extension": ".py",
   "mimetype": "text/x-python",
   "name": "python",
   "nbconvert_exporter": "python",
   "pygments_lexer": "ipython3",
   "version": "3.10.2"
  },
  "orig_nbformat": 4
 },
 "nbformat": 4,
 "nbformat_minor": 2
}
