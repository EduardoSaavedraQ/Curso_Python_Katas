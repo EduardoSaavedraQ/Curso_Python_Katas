{
 "cells": [
  {
   "cell_type": "markdown",
   "metadata": {},
   "source": [
    "# Ejercicio 1: Transformar cadenas"
   ]
  },
  {
   "cell_type": "code",
   "execution_count": 18,
   "metadata": {},
   "outputs": [
    {
     "data": {
      "text/plain": [
       "['Interesting facts about the Moon',\n",
       " \"The Moon is Earth's only satellite\",\n",
       " 'There are several interesting facts about the Moon and how it affects life here on Earth',\n",
       " '\\nOn average, the Moon moves 4cm away from the Earth every year',\n",
       " 'This yearly drift is not significant enough to cause immediate effects on Earth',\n",
       " 'The highest daylight temperature of the Moon is 127 C.']"
      ]
     },
     "execution_count": 18,
     "metadata": {},
     "output_type": "execute_result"
    }
   ],
   "source": [
    "# Dividir el texto en oraciones\n",
    "text = \"\"\"Interesting facts about the Moon. The Moon is Earth's only satellite. There are several interesting facts about the Moon and how it affects life here on Earth. \n",
    "On average, the Moon moves 4cm away from the Earth every year. This yearly drift is not significant enough to cause immediate effects on Earth. The highest daylight temperature of the Moon is 127 C.\"\"\"\n",
    "texto_dividido = text.split('. ')\n",
    "texto_dividido\n"
   ]
  },
  {
   "cell_type": "code",
   "execution_count": 32,
   "metadata": {},
   "outputs": [
    {
     "data": {
      "text/plain": [
       "True"
      ]
     },
     "execution_count": 32,
     "metadata": {},
     "output_type": "execute_result"
    }
   ],
   "source": [
    "# Palabras clave\n",
    "palabras_clave = [\"average\", \"temperature\", \"distance\"]"
   ]
  },
  {
   "cell_type": "code",
   "execution_count": 36,
   "metadata": {},
   "outputs": [
    {
     "name": "stdout",
     "output_type": "stream",
     "text": [
      "\n",
      "On average, the Moon moves 4cm away from the Earth every year\n",
      "\n",
      "The highest daylight temperature of the Moon is 127 C.\n",
      "\n"
     ]
    }
   ],
   "source": [
    "for oración in texto_dividido:\n",
    "    for palabra in palabras_clave:\n",
    "        if palabra in oración:\n",
    "            print(oración + '\\n')\n",
    "            break"
   ]
  },
  {
   "cell_type": "code",
   "execution_count": 40,
   "metadata": {},
   "outputs": [
    {
     "name": "stdout",
     "output_type": "stream",
     "text": [
      "\n",
      "On average, the Moon moves 4cm away from the Earth every year\n",
      "\n",
      "The highest daylight temperature of the Moon is 127 Celsius.\n",
      "\n"
     ]
    }
   ],
   "source": [
    "for oración in texto_dividido:\n",
    "    for palabra in palabras_clave:\n",
    "        if palabra in oración:\n",
    "                \n",
    "            print(oración.replace('C', \"Celsius\") + '\\n')\n",
    "            break"
   ]
  },
  {
   "cell_type": "markdown",
   "metadata": {},
   "source": [
    "# Ejercicio 2: Formateando cadenas"
   ]
  },
  {
   "cell_type": "code",
   "execution_count": 41,
   "metadata": {},
   "outputs": [],
   "source": [
    "# Datos\n",
    "nombre = \"Luna\"\n",
    "gravedad = 0.00162 # in kms\n",
    "planeta = \"Earth\""
   ]
  },
  {
   "cell_type": "code",
   "execution_count": 42,
   "metadata": {},
   "outputs": [],
   "source": [
    "titulo = f\"Datos sobre la gravedad de {nombre}.\""
   ]
  },
  {
   "cell_type": "code",
   "execution_count": 47,
   "metadata": {},
   "outputs": [],
   "source": [
    "datos = f\"\"\"Nombre del planeta: {planeta}.\n",
    "Gravedad en {nombre}: {gravedad * 1000} m/s2.\"\"\""
   ]
  },
  {
   "cell_type": "code",
   "execution_count": 49,
   "metadata": {},
   "outputs": [],
   "source": [
    "plantilla = f\"\"\"\n",
    "{titulo}\n",
    "-----------------------------------------\n",
    "{datos}\"\"\""
   ]
  },
  {
   "cell_type": "code",
   "execution_count": 50,
   "metadata": {},
   "outputs": [
    {
     "name": "stdout",
     "output_type": "stream",
     "text": [
      "\n",
      "Datos sobre la gravedad de Luna.\n",
      "-----------------------------------------\n",
      "Nombre del planeta: Earth.\n",
      "Gravedad en Luna: 1.6199999999999999 m/s2.\n"
     ]
    }
   ],
   "source": [
    "print(plantilla)"
   ]
  },
  {
   "cell_type": "code",
   "execution_count": 55,
   "metadata": {},
   "outputs": [
    {
     "name": "stdout",
     "output_type": "stream",
     "text": [
      "\n",
      "Datos sobre la gravedad de Ganímides.\n",
      "-----------------------------------------\n",
      "Nombre del planeta: Marte.\n",
      "Gravedad en Ganímides: 1.4300000000000002 m/s2.\n"
     ]
    }
   ],
   "source": [
    "nombre = \"Ganímides\"\n",
    "gravedad = 0.00143 # in kms\n",
    "planeta = \"Marte\"\n",
    "print(plantilla.format(nombre = nombre, gravedad = gravedad, planeta = planeta))"
   ]
  },
  {
   "cell_type": "code",
   "execution_count": 56,
   "metadata": {},
   "outputs": [
    {
     "name": "stdout",
     "output_type": "stream",
     "text": [
      "\n",
      "Datos sobre la gravedad de Ganímides.\n",
      "-----------------------------------------\n",
      "Nombre del planeta: Marte.\n",
      "Gravedad en Ganímides: 1.4300000000000002 m/s2.\n"
     ]
    }
   ],
   "source": [
    "print(plantilla.format(nombre = nombre, gravedad = gravedad, planeta = planeta))"
   ]
  }
 ],
 "metadata": {
  "interpreter": {
   "hash": "8ed06d07b9ff369db6ed7b53447be18709da67cd911d838d72fee7fecb26667a"
  },
  "kernelspec": {
   "display_name": "Python 3.10.2 64-bit",
   "language": "python",
   "name": "python3"
  },
  "language_info": {
   "codemirror_mode": {
    "name": "ipython",
    "version": 3
   },
   "file_extension": ".py",
   "mimetype": "text/x-python",
   "name": "python",
   "nbconvert_exporter": "python",
   "pygments_lexer": "ipython3",
   "version": "3.10.2"
  },
  "orig_nbformat": 4
 },
 "nbformat": 4,
 "nbformat_minor": 2
}
