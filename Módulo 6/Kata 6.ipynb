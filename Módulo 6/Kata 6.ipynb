{
 "cells": [
  {
   "cell_type": "markdown",
   "metadata": {},
   "source": [
    "# Ejercicio 1: Crear y usar listas de Python"
   ]
  },
  {
   "cell_type": "code",
   "execution_count": 3,
   "metadata": {},
   "outputs": [
    {
     "name": "stdout",
     "output_type": "stream",
     "text": [
      "Los  8  más cercanos al Sol son:  ['Mercurio', 'Venus', 'Tierra', 'Marte', 'Júpiter', 'Saturno', 'Urano', 'Neptuno']\n"
     ]
    }
   ],
   "source": [
    "# Creando y mostrando la lista 'plantets'\n",
    "planets = [\"Mercurio\", \"Venus\", \"Tierra\", \"Marte\", \"Júpiter\", \"Saturno\", \"Urano\", \"Neptuno\"]\n",
    "print(\"Los \", len(planets), \" más cercanos al Sol son: \", planets)"
   ]
  },
  {
   "cell_type": "code",
   "execution_count": 5,
   "metadata": {},
   "outputs": [
    {
     "name": "stdout",
     "output_type": "stream",
     "text": [
      "Antes oficialmente había  10  planetas cercanos al Sol. El noveno planeta era  Plutón .\n"
     ]
    }
   ],
   "source": [
    "#Agreando Plutón a la lista\n",
    "planets.append(\"Plutón\")\n",
    "print(\"Antes oficialmente había\", len(planets), \"planetas cercanos al Sol. El noveno planeta era\", planets[-1], \".\")"
   ]
  },
  {
   "cell_type": "markdown",
   "metadata": {},
   "source": [
    "# Ejercicio 2: Trabajando con datos de una lista"
   ]
  },
  {
   "cell_type": "code",
   "execution_count": 9,
   "metadata": {},
   "outputs": [
    {
     "name": "stdout",
     "output_type": "stream",
     "text": [
      "El planeta ingresado se encuentra en la posición 4 .\n",
      "\n"
     ]
    }
   ],
   "source": [
    "#Lista de planetas\n",
    "planets = [\"Mercurio\", \"Venus\", \"Tierra\", \"Marte\", \"Júpiter\", \"Saturno\", \"Urano\", \"Neptuno\"]\n",
    "#Solicitando el nombre de un planeta\n",
    "planeta_a_buscar = input(\"Ingrese el nombre de un planeta (procure comenzar con letra mayúscula): \")\n",
    "#Buscando el planeta\n",
    "posición = planets.index(planeta_a_buscar)\n",
    "if posición == -1:\n",
    "    print(\"El planeta ingresado no se encuentra en la lista.\")\n",
    "else:\n",
    "    print(\"El planeta ingresado se encuentra en la posición\", posición + 1, \".\\n\")"
   ]
  },
  {
   "cell_type": "code",
   "execution_count": 10,
   "metadata": {},
   "outputs": [
    {
     "name": "stdout",
     "output_type": "stream",
     "text": [
      "Los planetas antes de  Marte son: ['Mercurio', 'Venus', 'Tierra']\n"
     ]
    }
   ],
   "source": [
    "planetas_antes = planets[0:posición]\n",
    "print(\"Los planetas antes de \", planets[posición], \"son:\", planetas_antes)"
   ]
  },
  {
   "cell_type": "code",
   "execution_count": 11,
   "metadata": {},
   "outputs": [
    {
     "name": "stdout",
     "output_type": "stream",
     "text": [
      "Los planetas después de Marte son: ['Júpiter', 'Saturno', 'Urano', 'Neptuno']\n"
     ]
    }
   ],
   "source": [
    "planetas_después = planets[posición + 1: 8]\n",
    "print(\"Los planetas después de\", planets[posición], \"son:\", planetas_después)"
   ]
  }
 ],
 "metadata": {
  "interpreter": {
   "hash": "8ed06d07b9ff369db6ed7b53447be18709da67cd911d838d72fee7fecb26667a"
  },
  "kernelspec": {
   "display_name": "Python 3.10.2 64-bit",
   "language": "python",
   "name": "python3"
  },
  "language_info": {
   "codemirror_mode": {
    "name": "ipython",
    "version": 3
   },
   "file_extension": ".py",
   "mimetype": "text/x-python",
   "name": "python",
   "nbconvert_exporter": "python",
   "pygments_lexer": "ipython3",
   "version": "3.10.2"
  },
  "orig_nbformat": 4
 },
 "nbformat": 4,
 "nbformat_minor": 2
}
